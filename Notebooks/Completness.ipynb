{
 "cells": [
  {
   "cell_type": "markdown",
   "metadata": {},
   "source": [
    "Compute stats for Completness\n"
   ]
  },
  {
   "cell_type": "markdown",
   "metadata": {},
   "source": [
    "Imports"
   ]
  },
  {
   "cell_type": "code",
   "execution_count": 40,
   "metadata": {},
   "outputs": [],
   "source": [
    "import pandas as pd\n",
    "import numpy as np\n",
    "from scipy.stats import shapiro\n",
    "\n"
   ]
  },
  {
   "cell_type": "markdown",
   "metadata": {},
   "source": [
    "Read Input Data"
   ]
  },
  {
   "cell_type": "code",
   "execution_count": 41,
   "metadata": {},
   "outputs": [],
   "source": [
    "# Load the csv files\n",
    "excel_data_MostTemplates = pd.read_csv('..\\\\output\\\\completnessReqs-310-2345-1-MostTemplates.csv', sep=';', decimal=',')\n",
    "excel_data_Random = pd.read_csv('..\\\\output\\\\completnessReqs-510-110-1-Random.csv', sep=';', decimal=',')\n",
    "\n",
    "# Read the values of the file in the dataframe\n",
    "data_MostTemplates = pd.DataFrame(excel_data_MostTemplates)\n",
    "data_Random = pd.DataFrame(excel_data_Random)\n",
    "\n",
    "# Print the content\n",
    "# print(\"The content of the file is:\\n\", data_MostTemplates)"
   ]
  },
  {
   "cell_type": "markdown",
   "metadata": {},
   "source": [
    "Test for normality"
   ]
  },
  {
   "cell_type": "code",
   "execution_count": 43,
   "metadata": {},
   "outputs": [
    {
     "name": "stdout",
     "output_type": "stream",
     "text": [
      "[16, 18, 19, 20, 24, 27, 28, 29, 647, 648, 649, 650, 651, 652, 653, 654, 655, 656, 657, 658, 659, 660, 661, 662, 663, 664, 665, 666, 667, 668, 669, 670, 671, 672, 673, 674, 675, 676, 677, 678, 679, 680, 681, 682, 683, 684, 685, 686, 687, 688, 689, 690, 691, 692]\n",
      "[303, 304, 305, 306, 307, 308, 309, 310, 311, 312, 313, 314, 315, 316, 317, 318, 319, 320, 321, 322, 323, 324, 325, 326, 327, 328, 329, 330, 331, 332, 333, 334, 335, 336, 337, 338, 339, 340, 341, 342, 343, 344, 345, 346, 347, 348, 349, 350, 351, 352, 353, 354, 355, 356, 357, 358, 359, 360, 361, 362, 365, 366, 369, 370, 377, 381, 384, 385, 386, 387, 388, 389, 390, 391, 392, 393, 394, 395, 396, 397, 398, 402, 403, 404, 405, 408, 409, 410, 411, 412, 413, 414, 415, 416, 417, 418, 419, 692]\n"
     ]
    },
    {
     "name": "stderr",
     "output_type": "stream",
     "text": [
      "C:\\Users\\Sylwia\\AppData\\Roaming\\Python\\Python310\\site-packages\\scipy\\stats\\_morestats.py:1797: UserWarning: Input data for shapiro has range zero. The results may not be accurate.\n",
      "  warnings.warn(\"Input data for shapiro has range zero. The results \"\n"
     ]
    }
   ],
   "source": [
    "def CheckNormality(dataFrame):\n",
    "   mostTemplatesNotNormality = []\n",
    "   for index, row in dataFrame.iterrows():\n",
    "      dataToTest = list(row)[1:]\n",
    "      result = shapiro(dataToTest)\n",
    "      if (result.pvalue > 0.05):\n",
    "         mostTemplatesNotNormality.append(index)\n",
    "   return (mostTemplatesNotNormality)\n",
    "\n",
    "print(CheckNormality(excel_data_MostTemplates))\n",
    "print(CheckNormality(excel_data_Random))"
   ]
  }
 ],
 "metadata": {
  "kernelspec": {
   "display_name": "Python 3.10.7 64-bit",
   "language": "python",
   "name": "python3"
  },
  "language_info": {
   "codemirror_mode": {
    "name": "ipython",
    "version": 3
   },
   "file_extension": ".py",
   "mimetype": "text/x-python",
   "name": "python",
   "nbconvert_exporter": "python",
   "pygments_lexer": "ipython3",
   "version": "3.10.7"
  },
  "orig_nbformat": 4,
  "vscode": {
   "interpreter": {
    "hash": "26de051ba29f2982a8de78e945f0abaf191376122a1563185a90213a26c5da77"
   }
  }
 },
 "nbformat": 4,
 "nbformat_minor": 2
}
