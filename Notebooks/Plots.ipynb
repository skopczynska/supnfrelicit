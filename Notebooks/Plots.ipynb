{
 "cells": [
  {
   "cell_type": "code",
   "execution_count": 7,
   "metadata": {
    "vscode": {
     "languageId": "r"
    }
   },
   "outputs": [
    {
     "name": "stderr",
     "output_type": "stream",
     "text": [
      "Warning message:\n",
      "\"pakiet 'Rmisc' został zbudowany w wersji R 4.1.3\"\n",
      "Ładowanie wymaganego pakietu: lattice\n",
      "\n"
     ]
    }
   ],
   "source": [
    "library(psych)\n",
    "library(Lahman)\n",
    "library(plyr)\n",
    "library(MASS)\n",
    "library(effsize)\n",
    "library(reshape2)\n",
    "library(ggplot2)\n",
    "library(Rmisc)\n",
    "library(dplyr)\n",
    "digPrec<-4 "
   ]
  },
  {
   "cell_type": "code",
   "execution_count": 8,
   "metadata": {
    "vscode": {
     "languageId": "r"
    }
   },
   "outputs": [
    {
     "name": "stderr",
     "output_type": "stream",
     "text": [
      "Warning message in file(file, \"rt\"):\n",
      "\"nie można otworzyć pliku 'output/completnessReqs-310-2345-1-MostTemplates.csv': No such file or directory\"\n"
     ]
    },
    {
     "ename": "ERROR",
     "evalue": "Error in file(file, \"rt\"): nie można otworzyć połączenia\n",
     "output_type": "error",
     "traceback": [
      "Error in file(file, \"rt\"): nie można otworzyć połączenia\nTraceback:\n",
      "1. read.csv(\"output/completnessReqs-310-2345-1-MostTemplates.csv\", \n .     sep = \";\", header = TRUE, encoding = \"UTF-8\", dec = \".\")",
      "2. read.table(file = file, header = header, sep = sep, quote = quote, \n .     dec = dec, fill = fill, comment.char = comment.char, ...)",
      "3. file(file, \"rt\")"
     ]
    }
   ],
   "source": [
    "data <-read.csv(\"../output/completnessReqs-310-2345-1-MostTemplates.csv\", sep=\";\", header=TRUE, encoding = \"UTF-8\", dec=\".\")"
   ]
  }
 ],
 "metadata": {
  "kernelspec": {
   "display_name": "R",
   "language": "R",
   "name": "ir"
  },
  "language_info": {
   "codemirror_mode": "r",
   "file_extension": ".r",
   "mimetype": "text/x-r-source",
   "name": "R",
   "pygments_lexer": "r",
   "version": "4.1.2"
  },
  "orig_nbformat": 4,
  "vscode": {
   "interpreter": {
    "hash": "26de051ba29f2982a8de78e945f0abaf191376122a1563185a90213a26c5da77"
   }
  }
 },
 "nbformat": 4,
 "nbformat_minor": 2
}
